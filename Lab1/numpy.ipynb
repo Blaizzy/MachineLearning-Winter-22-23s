{
 "cells": [
  {
   "cell_type": "markdown",
   "metadata": {},
   "source": [
    "## Numpy introduction"
   ]
  },
  {
   "cell_type": "markdown",
   "metadata": {},
   "source": [
    "This notebook is a quick introduction to the numpy library. It is intended to be a quick reference for the most common operations."
   ]
  },
  {
   "cell_type": "markdown",
   "metadata": {},
   "source": [
    "The first thing we need to do is import `numpy`. We will use the standard alias for it: `np`.\n",
    "\n",
    "```python"
   ]
  },
  {
   "cell_type": "code",
   "execution_count": 3,
   "metadata": {},
   "outputs": [],
   "source": [
    "import numpy as np"
   ]
  },
  {
   "cell_type": "markdown",
   "metadata": {},
   "source": [
    "### Task 0 (0.5 point)\n",
    "Define the maxx function that takes two numpy arrays and returns the one, which has the largest sum of elements. If the sums are equal, the function should return the first array.\n"
   ]
  },
  {
   "cell_type": "code",
<<<<<<< HEAD
   "execution_count": 7,
   "metadata": {},
   "outputs": [],
   "source": [
    "def find_max(a, b):\n",
    "    if a.sum()>b.sum():\n",
    "        return {'a': a}\n",
    "    elif b.sum()>a.sum():\n",
    "        return {'b': b}\n",
    "    else: \n",
    "        return {'a': a}"
=======
   "execution_count": 16,
   "metadata": {},
   "outputs": [
    {
     "name": "stdout",
     "output_type": "stream",
     "text": [
      "22\n"
     ]
    },
    {
     "data": {
      "text/plain": [
       "array([[1, 2, 5, 3],\n",
       "       [2, 3, 5, 1]])"
      ]
     },
     "execution_count": 16,
     "metadata": {},
     "output_type": "execute_result"
    }
   ],
   "source": [
    "def maxfun(r1, r2):\n",
    "    sum1 = r1.sum(axis=None)\n",
    "    print(sum1)\n",
    "    sum2 = r2.sum()\n",
    "    if sum1 >= sum2:\n",
    "        return r1\n",
    "    else:\n",
    "        return r2\n",
    "\n",
    "r1 = np.array([[1,2,5,3],[2,3,5,1]])\n",
    "r2 = np.array([1,2,5])\n",
    "maxfun(r1, r2)"
>>>>>>> 4eaedf3818e44242a49eda361283907bf4d06c0e
   ]
  },
  {
   "cell_type": "markdown",
   "metadata": {},
   "source": [
    "### Task 1 (0.5 point)\n",
    "Define the meanest_of_them_all function that takes a list of numpy arrays and returns the one, which has the largest mean of elements. If the means are equal, the function should return the first array. The function should work for arbitrary shapes of the arrays."
   ]
  },
  {
   "cell_type": "code",
   "execution_count": 30,
   "metadata": {},
   "outputs": [
    {
     "data": {
      "text/plain": [
       "array([3.000001, 2.      , 1.      ])"
      ]
     },
     "execution_count": 30,
     "metadata": {},
     "output_type": "execute_result"
    }
   ],
   "source": [
    "def meanest_of_them_all(np_arrays):\n",
    "    means = [np.nanmean(ar) for ar in np_arrays]\n",
    "    max_mean = max(means)\n",
    "    max_means_positions = [index for index, mean in enumerate(means) if np.isclose(mean, max_mean, 1e-10)]\n",
    "    return np_arrays[max_means_positions[0]]\n",
    "\n",
    "meanest_of_them_all([np.array([3., 2, 1]), np.array([3+1.0e-6, 2, 1]), np.array([1, 2, 3]), np.array([2, 2, 2])])"
   ]
  },
  {
   "cell_type": "markdown",
   "metadata": {},
   "source": [
    "### Task 2 (1 point)\n",
    "Create 2 1D random integer (0, 100) numpy arrays of size 100, then create new array by choosing elements that appear in both arrays. Then replace all elements that are less than 50 with 0 and all elements that are greater than 50 with 1. Finally, calculate the mean of the resulting array."
   ]
  },
  {
   "cell_type": "code",
<<<<<<< HEAD
   "execution_count": 17,
   "metadata": {},
   "outputs": [
    {
     "data": {
      "text/plain": [
       "(array([0, 0, 0, 0, 0, 0, 0, 0, 0, 0, 0, 0, 0, 0, 0, 0, 0, 0, 0, 0, 0, 0,\n",
       "        0, 0, 0, 1, 1, 1, 1, 1, 1, 1, 1, 1, 1, 1, 1, 1, 1, 1, 1, 1, 1, 1,\n",
       "        1]),\n",
       " 0.4444444444444444)"
      ]
     },
     "execution_count": 17,
     "metadata": {},
     "output_type": "execute_result"
    }
   ],
   "source": [
    "b = np.random.randint(1, 100, 100)\n",
    "a = np.random.randint(1, 100, 100)\n",
    "common = np.intersect1d(a,b)\n",
    "common = np.where(common>50, 1, 0)\n",
    "mean_ = common.mean()\n",
    "common, mean_"
=======
   "execution_count": 33,
   "metadata": {},
   "outputs": [
    {
     "name": "stdout",
     "output_type": "stream",
     "text": [
      "[10 75 27 64 27  1 98 59 28 17 28 66 36 44 81 42 57 74 64 58 28 40 38 64\n",
      " 84 82  5 40 64 66 34 94 37 27 51 84  1 67 28 47  5 60 72 83  2 66 86 11\n",
      " 44 57 71  2 91  5 78 89 84  3 69 99  6 45 16 32 26  6 68 54  3 88 21 94\n",
      " 60 78 60  2 98 43 72 42 10 52 66 96 52 92 82  6  4 22 10 23 78 24 32 68\n",
      " 33 63 44 28]\n",
      "[54 92 50 91 55  5  3 87 85 84 35 68 21 76 76 13 51  5 44  2 94 36 78 17\n",
      " 24 47 51 72 90  0 95 60 26 59 54 49 65 71 64 95 86 87 11 48 83 28 25 79\n",
      " 39 63 82 28 43 76 94 20 27  4 93 14 41  4  3 83 19 25 65 68  1 63 17 91\n",
      " 41 14 85  7 82 66 12 84 84 49  0 80 98 77 60 54 50 84 68  0 74 97 40  3\n",
      " 93 68  7 48]\n",
      "[ 1  2  3  4  5 11 17 21 24 26 27 28 36 40 43 44 47 51 54 59 60 63 64 66\n",
      " 68 71 72 74 78 82 83 84 86 91 92 94 98]\n",
      "[False False False False False False False False False False False False\n",
      " False False False False False  True  True  True  True  True  True  True\n",
      "  True  True  True  True  True  True  True  True  True  True  True  True\n",
      "  True]\n",
      "0.5405405405405406\n"
     ]
    }
   ],
   "source": [
    "ra = np.random.randint(low=0,high=100,size=100,dtype=int)\n",
    "rb = np.random.randint(low=0,high=100,size=100,dtype=int)\n",
    "print(ra)\n",
    "print(rb)\n",
    "common = np.intersect1d(ra,rb)\n",
    "print(common)\n",
    "common_replaced = common > 50\n",
    "print(common_replaced)\n",
    "print(common_replaced.mean())"
>>>>>>> 4eaedf3818e44242a49eda361283907bf4d06c0e
   ]
  },
  {
   "cell_type": "markdown",
   "metadata": {},
   "source": [
    "### Task 3 (1 point)\n",
    "Construct the following block matrix (without explicitly writing it!):\n",
    "```\n",
    "[[10, 10, 10, 10, 10, 1,  0,  0,  0,  0],\n",
    " [10, 10, 10, 10, 10, 0,  1,  0,  0,  0],\n",
    " [10, 10, 10, 10, 10, 0,  0,  1,  0,  0],\n",
    " [10, 10, 10, 10, 10, 0,  0,  0,  1,  0],\n",
    " [10, 10, 10, 10, 10, 0,  0,  0,  0,  1],\n",
    " [ 1,  0,  0,  0,  0, 10, 10, 10, 10, 10],\n",
    " [ 0,  1,  0,  0,  0, 10, 10, 10, 10, 10],\n",
    " [ 0,  0,  1,  0,  0, 10, 10, 10, 10, 10],\n",
    " [ 0,  0,  0,  1,  0, 10, 10, 10, 10, 10],\n",
    " [ 0,  0,  0,  0,  1, 10, 10, 10, 10, 10]]\n",
    "```\n",
    "Then calculate its determinant."
   ]
  },
  {
<<<<<<< HEAD
=======
   "cell_type": "code",
   "execution_count": 35,
   "metadata": {},
   "outputs": [
    {
     "name": "stdout",
     "output_type": "stream",
     "text": [
      "[[10. 10. 10. 10. 10.  1.  0.  0.  0.  0.]\n",
      " [10. 10. 10. 10. 10.  0.  1.  0.  0.  0.]\n",
      " [10. 10. 10. 10. 10.  0.  0.  1.  0.  0.]\n",
      " [10. 10. 10. 10. 10.  0.  0.  0.  1.  0.]\n",
      " [10. 10. 10. 10. 10.  0.  0.  0.  0.  1.]\n",
      " [ 1.  0.  0.  0.  0. 10. 10. 10. 10. 10.]\n",
      " [ 0.  1.  0.  0.  0. 10. 10. 10. 10. 10.]\n",
      " [ 0.  0.  1.  0.  0. 10. 10. 10. 10. 10.]\n",
      " [ 0.  0.  0.  1.  0. 10. 10. 10. 10. 10.]\n",
      " [ 0.  0.  0.  0.  1. 10. 10. 10. 10. 10.]]\n",
      "2498.9999999999973\n"
     ]
    }
   ],
   "source": [
    "a = np.ones((5,5))*10\n",
    "b = np.eye(5)\n",
    "\n",
    "arr1 = np.concatenate((a,b),axis=1)\n",
    "arr2 = np.concatenate((b,a), axis=1)\n",
    "\n",
    "arr = np.concatenate((arr1,arr2))\n",
    "\n",
    "print(arr)\n",
    "print(np.linalg.det(arr))"
   ]
  },
  {
>>>>>>> 4eaedf3818e44242a49eda361283907bf4d06c0e
   "cell_type": "markdown",
   "metadata": {},
   "source": [
    "### Task 4 (1 point)\n",
    "Replace all nan values with the mean of the array. Then normalize the array by subtracting the mean and dividing by the standard deviation."
   ]
  },
  {
   "cell_type": "code",
<<<<<<< HEAD
   "execution_count": 82,
   "metadata": {},
   "outputs": [
    {
     "data": {
      "text/plain": [
       "array([[ 0.02076729, -1.61579866,  1.24045727, -0.18117898, -0.99693377,\n",
       "         1.11020815,  1.07770347, -0.65522476,  0.        ,  0.        ]])"
      ]
     },
     "execution_count": 82,
     "metadata": {},
     "output_type": "execute_result"
    }
   ],
   "source": [
    "a = np.random.randn(1, 10)\n",
    "a[a>1] = np.nan\n",
    "mean_ = np.mean(a[np.logical_not(np.isnan(a))])\n",
    "std_ = np.std(a[np.logical_not(np.isnan(a))])\n",
    "(np.nan_to_num(a, nan=mean_) - mean_)/ std_"
=======
   "execution_count": 38,
   "metadata": {},
   "outputs": [
    {
     "name": "stdout",
     "output_type": "stream",
     "text": [
      "[-1.5 -0.5  0.5  1.5  0. ]\n"
     ]
    }
   ],
   "source": [
    "from cmath import nan\n",
    "\n",
    "\n",
    "def normalize_array(array):\n",
    "    mean = np.nanmean(array)\n",
    "    array[np.isnan(array)] = mean\n",
    "    return (array - mean)/ np.std(array)\n",
    "\n",
    "a = np.array([1,2,3,4,nan])\n",
    "print(normalize_array(a))"
>>>>>>> 4eaedf3818e44242a49eda361283907bf4d06c0e
   ]
  },
  {
   "cell_type": "markdown",
   "metadata": {},
   "source": [
    "### Task 5 (1 point)\n",
    "\n",
    "Treating separate rows as independent vectors, calculate the projection of vector v onto vector w for each rows of matrices Vs and Ws."
   ]
  },
  {
   "cell_type": "code",
   "execution_count": 51,
   "metadata": {},
   "outputs": [
    {
     "data": {
      "text/plain": [
       "[[array([1., 2.]), array([1.23076923, 1.84615385]), array([1.32, 1.76])],\n",
       " [array([1.6, 3.2]), array([2., 3.]), array([2.16, 2.88])],\n",
       " [array([2.2, 4.4]), array([2.76923077, 4.15384615]), array([3., 4.])]]"
      ]
     },
     "execution_count": 51,
     "metadata": {},
     "output_type": "execute_result"
    }
   ],
   "source": [
    "v1 = [1,2,3,4,5]\n",
    "v2 = [[1,1,1,1,1],[1,1,1,1,2],[1,1,1,3,1]]\n",
    "\n",
    "\n",
    "def projection(a, arrays):\n",
    "    projections = []\n",
    "    for arr in arrays:\n",
    "        projections.append(np.dot(a, arr) / np.dot(arr, arr) * arr)\n",
    "    \n",
    "    return projections\n",
    "\n",
    "def task_5(a):\n",
    "    res = []\n",
    "    for vector in a:\n",
    "        res.append(projection(vector, a))\n",
    "    \n",
    "    return res\n",
    "\n",
    "\n",
    "# projection(np.array([1, 2]), [np.array([1, 2]), np.array([2, 3]), np.array([3, 4])])\n",
    "\n",
    "task_5([np.array([1, 2]), np.array([2, 3]), np.array([3, 4])])\n"
   ]
  },
  {
   "cell_type": "markdown",
   "metadata": {},
   "source": [
    "### Task 6 (2 points)\n",
    "Generate 1000 x 1000 numpy random array. Then fill some random elements with nans. Then replace all nan values with the mean of the array. Finally save the array to a file, simulataneously saving the labels for each element. The labels should be calculated as follows: if the element is greater than 70% of all numbers in the array, then the label is equal to 1, otherwise the label is 0. The labels should be saved in a separate file."
   ]
  },
  {
   "cell_type": "code",
   "execution_count": 58,
   "metadata": {},
   "outputs": [
    {
     "data": {
      "text/plain": [
       "0.6998344945813877"
      ]
     },
     "execution_count": 58,
     "metadata": {},
     "output_type": "execute_result"
    }
   ],
   "source": [
    "N = 1000\n",
    "rnd_arr = np.random.rand(N,N)\n",
    "some = int(0.25*N*N)\n",
    "\n",
    "rnd_arr = rnd_arr.flatten()\n",
    "for i in range(some):\n",
    "    #rnd_arr[np.random.randint(N), np.random.randint(N)] = np.nan\n",
    "    rnd_arr[np.random.randint(N*N)] = np.nan\n",
    "\n",
    "mean = np.nanmean(rnd_arr)\n",
    "rnd_arr[np.isnan(rnd_arr)] = mean\n",
    "\n",
    "perc70 = np.sort(rnd_arr)[int(0.7*N*N)]\n",
    "perc70\n",
    "#labels = (rnd_arr > perc70).astype(int)\n",
    "\n",
    "#np.savetxt(\"labels.txt\", labels, fmt = '%d')\n",
    "#np.savetxt(\"rnd_arr.txt\", rnd_arr)\n"
   ]
  }
 ],
 "metadata": {
  "kernelspec": {
<<<<<<< HEAD
   "display_name": "Python 3.8.13 ('neptune_test_env')",
=======
   "display_name": "Python 3.9.7 ('base')",
>>>>>>> 4eaedf3818e44242a49eda361283907bf4d06c0e
   "language": "python",
   "name": "python3"
  },
  "language_info": {
   "codemirror_mode": {
    "name": "ipython",
    "version": 3
   },
   "file_extension": ".py",
   "mimetype": "text/x-python",
   "name": "python",
   "nbconvert_exporter": "python",
   "pygments_lexer": "ipython3",
<<<<<<< HEAD
   "version": "3.8.13"
=======
   "version": "3.9.7"
>>>>>>> 4eaedf3818e44242a49eda361283907bf4d06c0e
  },
  "orig_nbformat": 4,
  "vscode": {
   "interpreter": {
<<<<<<< HEAD
    "hash": "9918a49f0ff3a4018a272fb676756b6b7681877efd7b7e72359fb8b30d06330a"
=======
    "hash": "4fc8eee665007a42edd269303f37995bd64ca5eac7b16be98d3be7ead3c26aac"
>>>>>>> 4eaedf3818e44242a49eda361283907bf4d06c0e
   }
  }
 },
 "nbformat": 4,
 "nbformat_minor": 2
}
