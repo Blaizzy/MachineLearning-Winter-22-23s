{
 "cells": [
  {
   "cell_type": "markdown",
   "metadata": {},
   "source": [
    "# Matplotlib exercises"
   ]
  },
  {
   "cell_type": "code",
   "execution_count": 33,
   "metadata": {},
   "outputs": [
    {
     "data": {
      "text/plain": [
       "<Figure size 432x288 with 0 Axes>"
      ]
     },
     "metadata": {},
     "output_type": "display_data"
    }
   ],
   "source": [
    "import matplotlib.pyplot as plt\n",
    "import numpy as np\n",
    "%matplotlib inline\n",
    "\n",
    "fig = plt.figure(1)"
   ]
  },
  {
   "cell_type": "markdown",
   "metadata": {},
   "source": [
    "### Task 0 (0.5 pt) \n",
    "Use `matplotlib` to plot $\\sin(x)$ for $x \\in [0,10]$."
   ]
  },
  {
   "cell_type": "code",
   "execution_count": null,
   "metadata": {},
   "outputs": [],
   "source": []
  },
  {
   "cell_type": "markdown",
   "metadata": {},
   "source": [
    "### Task 1 (0.5 pt)\n",
    "Increase the limit in the $y$ axis to $[-1,11]$. The plotted line should remain in the limit $[0,10]$."
   ]
  },
  {
   "cell_type": "code",
   "execution_count": null,
   "metadata": {},
   "outputs": [],
   "source": []
  },
  {
   "cell_type": "markdown",
   "metadata": {},
   "source": [
    "### Task 2 (0.5 pt)\n",
    "Revert the change you just did, but this time using the get-current-axes (`gca`) function."
   ]
  },
  {
   "cell_type": "code",
   "execution_count": null,
   "metadata": {},
   "outputs": [],
   "source": []
  },
  {
   "cell_type": "markdown",
   "metadata": {},
   "source": [
    "### Task 3 (0.5 pt) \n",
    "Add labels to the axis with a font size of 14."
   ]
  },
  {
   "cell_type": "code",
   "execution_count": null,
   "metadata": {},
   "outputs": [],
   "source": []
  },
  {
   "cell_type": "markdown",
   "metadata": {},
   "source": [
    "### Task 4 (1.0 pt) \n",
    "Set the positions of the ticks and their labels on the $x$ axis at 0.5, 1.5, 2.5, ... 9.5. Make the font size of the tick labels 12. Use the functions `xticks()`."
   ]
  },
  {
   "cell_type": "markdown",
   "metadata": {},
   "source": [
    "Draw grid lines using the yticks only."
   ]
  },
  {
   "cell_type": "code",
   "execution_count": null,
   "metadata": {},
   "outputs": [],
   "source": []
  },
  {
   "cell_type": "markdown",
   "metadata": {},
   "source": [
    "### Task 5 (1.0 pt)\n",
    "Plot (on the same figure) $\\cos(x)$ for $x \\in [0,10]$. Use the following properties: square markers, dashed line, blue color, width of 3. Set the title of the figure to \"Trigonometric functions\"."
   ]
  },
  {
   "cell_type": "code",
   "execution_count": null,
   "metadata": {},
   "outputs": [],
   "source": []
  },
  {
   "cell_type": "markdown",
   "metadata": {},
   "source": [
    "### Task 6 (1.0 pt) \n",
    "Use `subplots` to create six plots in the same figure, using a two row and three column configuration. Plot $\\sin(x)$, $\\cos(x)$ or any any custom function in these plots. The plots should be correctly labeled and have the appropriate limits for easy viewing."
   ]
  },
  {
   "cell_type": "code",
   "execution_count": null,
   "metadata": {},
   "outputs": [],
   "source": []
  },
  {
   "cell_type": "markdown",
   "metadata": {},
   "source": [
    "### Task 7 (1.0 pt)\n",
    "Using `np.random.normal` with different centers and std, plot (on the same plot), 10 different distributions. Each distribution should have at least 2048 samples and you should use 100 bins for that. (Make it look appealing visually: a good choice is to select a small range of centres and a small range of standard deviations, and use a low `alpha=` parameter.)"
   ]
  },
  {
   "cell_type": "code",
   "execution_count": null,
   "metadata": {},
   "outputs": [],
   "source": []
  },
  {
   "cell_type": "markdown",
   "metadata": {},
   "source": [
    "### Task 8 (2.0 pt)\n",
    "\n",
    "Using the following example data, use `fill_between` to fill regions between these lines in different combinations. Fill between $y_1$ and $y_2$, between $y_2$ and $y_3$, and between $y_1$ and $y_3$. For each area use a different color and use a good `alpha` (by trial and errors) to make all areas visible.\n",
    "\n",
    "The lines are given by:\n",
    "\n",
    "$y_1=x^2-5$\n",
    "\n",
    "$y_2=e^x+2$\n",
    "\n",
    "$y_3=cos(x)$\n",
    "\n",
    "\n",
    "where $x \\in [0,3]$."
   ]
  },
  {
   "cell_type": "code",
   "execution_count": null,
   "metadata": {},
   "outputs": [],
   "source": []
  },
  {
   "cell_type": "markdown",
   "metadata": {},
   "source": [
    "The shape of a limaçon can be defined parametrically as\n",
    "\n",
    "$r = r_0 + \\cos\\theta$\n",
    "\n",
    "$x  = r \\cos\\theta$\n",
    "\n",
    "$y  = r \\sin\\theta$\n",
    "\n",
    "\n",
    "When $r_0 = 1$, this curve is called a cardioid. Use this definition to plot the shape of a limaçon for $r_0 = 0.8$, $r_0 = 1.0$, and $r_0 = 1.2$. Be sure to use enough points that the curve is closed and appears smooth (except for the cusp in the cardioid). Use a legend to identify which curve is which. Save the plot as a `.pdf` file."
   ]
  },
  {
   "cell_type": "code",
   "execution_count": null,
   "metadata": {},
   "outputs": [],
   "source": []
  }
 ],
 "metadata": {
  "kernelspec": {
   "display_name": "Python 3.9.7 ('base')",
   "language": "python",
   "name": "python3"
  },
  "language_info": {
   "codemirror_mode": {
    "name": "ipython",
    "version": 3
   },
   "file_extension": ".py",
   "mimetype": "text/x-python",
   "name": "python",
   "nbconvert_exporter": "python",
   "pygments_lexer": "ipython3",
   "version": "3.9.7"
  },
  "vscode": {
   "interpreter": {
    "hash": "4fc8eee665007a42edd269303f37995bd64ca5eac7b16be98d3be7ead3c26aac"
   }
  }
 },
 "nbformat": 4,
 "nbformat_minor": 4
}
